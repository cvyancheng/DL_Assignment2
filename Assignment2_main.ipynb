{
 "cells": [
  {
   "cell_type": "markdown",
   "metadata": {},
   "source": [
    "# 讀取圖像數據並準備數據"
   ]
  },
  {
   "cell_type": "code",
   "execution_count": 4,
   "metadata": {},
   "outputs": [],
   "source": [
    "dataset_path = './dataset'"
   ]
  },
  {
   "attachments": {},
   "cell_type": "markdown",
   "metadata": {},
   "source": [
    "# 載入所需套件"
   ]
  },
  {
   "cell_type": "code",
   "execution_count": 5,
   "metadata": {},
   "outputs": [],
   "source": [
    "%matplotlib inline\n",
    "import os\n",
    "import random\n",
    "import torch\n",
    "import torch.nn as nn\n",
    "import torchvision.transforms as transforms\n",
    "import torchvision.datasets as datasets\n",
    "from PIL import Image\n",
    "import torchvision.models as models\n",
    "from sklearn.ensemble import AdaBoostClassifier\n",
    "from sklearn.tree import DecisionTreeClassifier\n",
    "from sklearn.metrics import accuracy_score\n",
    "from sklearn.svm import LinearSVC\n",
    "from sklearn.svm import SVC\n",
    "from sklearn.neighbors import KNeighborsClassifier\n",
    "from sklearn.model_selection import GridSearchCV\n",
    "from sklearn.model_selection import learning_curve\n",
    "from sklearn.preprocessing import OneHotEncoder, LabelEncoder\n",
    "from sklearn.utils import shuffle, resample\n",
    "import numpy as np\n",
    "import matplotlib.pyplot as plt\n",
    "from miniflow import *\n",
    "from tqdm.auto import tqdm"
   ]
  },
  {
   "attachments": {},
   "cell_type": "markdown",
   "metadata": {},
   "source": [
    "# 評估指標"
   ]
  },
  {
   "cell_type": "markdown",
   "metadata": {},
   "source": [
    "# 訓練和評估模型\n"
   ]
  },
  {
   "cell_type": "code",
   "execution_count": 6,
   "metadata": {},
   "outputs": [],
   "source": [
    "def top_1_acc(y_true, y_pred):\n",
    "    \"\"\"\n",
    "    計算 top 1 accuracy\n",
    "    \n",
    "    參數:\n",
    "    y_true -- 真實標籤 (numpy array= m x 1)\n",
    "    y_pred -- 模型預測機率 (numpy array= m x n)\n",
    "    k -- 前 k 高的機率會被考慮 (int)\n",
    "    m -- 樣本個數\n",
    "    n -- 標籤數量\n",
    "    \n",
    "    回傳:\n",
    "    accuracy -- top k accuracy (float)\n",
    "    \"\"\"\n",
    "    sorted_indices = np.flip(np.argsort(y_pred,axis=1),axis=1) # Descent sorting\n",
    "    pred_top1 = sorted_indices[:,0]\n",
    "    accuracy = np.mean(y_true==pred_top1)\n",
    "    \n",
    "    return accuracy\n",
    "\n",
    "def top_5_acc(y_true, y_pred):\n",
    "    \"\"\"\n",
    "    計算 top 1 accuracy\n",
    "    \n",
    "    參數:\n",
    "    y_true -- 真實標籤 (numpy array= m x 1)\n",
    "    y_pred -- 模型預測機率 (numpy array= m x n)\n",
    "    k -- 前 k 高的機率會被考慮 (int)\n",
    "    m -- 樣本個數\n",
    "    n -- 標籤數量\n",
    "    \n",
    "    回傳:\n",
    "    accuracy -- top k accuracy (float)\n",
    "    \"\"\"\n",
    "    k=2\n",
    "    sorted_indices = np.flip(np.argsort(y_pred,axis=1),axis=1) # Descent sorting\n",
    "    pred_top5 = sorted_indices[:,:5]\n",
    "    num_correct = 0\n",
    "    for i in range(y_true.shape[0]):\n",
    "        if y_true[i] in pred_top5[i,:]:\n",
    "            num_correct += 1\n",
    "    accuracy = num_correct / len(y_true)\n",
    "    \n",
    "    return accuracy\n"
   ]
  },
  {
   "attachments": {},
   "cell_type": "markdown",
   "metadata": {},
   "source": [
    "# 訓練和評估模型"
   ]
  },
  {
   "cell_type": "code",
   "execution_count": 7,
   "metadata": {},
   "outputs": [],
   "source": [
    "feature_name_list = ['Resnet50','HoG']"
   ]
  },
  {
   "attachments": {},
   "cell_type": "markdown",
   "metadata": {},
   "source": [
    "## Features taking"
   ]
  },
  {
   "cell_type": "code",
   "execution_count": 9,
   "metadata": {},
   "outputs": [
    {
     "name": "stdout",
     "output_type": "stream",
     "text": [
      "Resnet50\n",
      "cuda:0\n"
     ]
    }
   ],
   "source": [
    "feature_name = feature_name_list[0]\n",
    "device = torch.device(\"cuda:0\" if torch.cuda.is_available() else \"cpu\")\n",
    "print(feature_name)\n",
    "print(device)"
   ]
  },
  {
   "cell_type": "code",
   "execution_count": 10,
   "metadata": {},
   "outputs": [],
   "source": [
    "train_features = np.load(os.path.join(dataset_path,'train_features_'+feature_name+'.npy'))\n",
    "train_labels = np.load(os.path.join(dataset_path,'train_labels_'+feature_name+'.npy'))\n",
    "val_features = np.load(os.path.join(dataset_path,'val_features_'+feature_name+'.npy'))\n",
    "val_labels = np.load(os.path.join(dataset_path,'val_labels_'+feature_name+'.npy'))\n",
    "test_features = np.load(os.path.join(dataset_path,'test_features_'+feature_name+'.npy'))\n",
    "test_labels = np.load(os.path.join(dataset_path,'test_labels_'+feature_name+'.npy'))"
   ]
  },
  {
   "attachments": {},
   "cell_type": "markdown",
   "metadata": {},
   "source": [
    "## Essential functions\n"
   ]
  },
  {
   "cell_type": "code",
   "execution_count": 95,
   "metadata": {},
   "outputs": [],
   "source": [
    "#Initialize the layers\n",
    "def init_layers(nn_architecture, seed = 99):\n",
    "    np.random.seed(seed)\n",
    "    number_of_layers = len(nn_architecture)\n",
    "    params_values = {}\n",
    "\n",
    "    for idx, layer in enumerate(nn_architecture):\n",
    "        layer_idx = idx + 1\n",
    "        layer_input_size = layer[\"input_dim\"]\n",
    "        layer_output_size = layer[\"output_dim\"]\n",
    "        \n",
    "        params_values['W' + str(layer_idx)] = np.random.randn(\n",
    "            layer_output_size, layer_input_size) * 0.1\n",
    "        params_values['b' + str(layer_idx)] = np.random.randn(\n",
    "            layer_output_size, 1) * 0.1\n",
    "        \n",
    "    return params_values\n",
    "\n",
    "#Define activation functions\n",
    "def sigmoid(Z):\n",
    "    return 1/(1+np.exp(-Z))\n",
    "\n",
    "def relu(Z):\n",
    "    return np.maximum(0,Z)\n",
    "\n",
    "def sigmoid_backward(dA, Z):\n",
    "    sig = sigmoid(Z)\n",
    "    return dA * sig * (1 - sig)\n",
    "\n",
    "def relu_backward(dA, Z):\n",
    "    dZ = np.array(dA, copy = True)\n",
    "    dZ[Z <= 0] = 0;\n",
    "    return dZ;\n",
    "\n",
    "#Build the single-layer forward propagation\n",
    "def single_layer_forward_propagation(A_prev, W_curr, b_curr, activation=\"relu\"):\n",
    "    Z_curr = np.dot(W_curr, A_prev) + b_curr\n",
    "    \n",
    "    if activation == \"relu\":\n",
    "        activation_func = relu\n",
    "    elif activation == \"sigmoid\":\n",
    "        activation_func = sigmoid\n",
    "    else:\n",
    "        raise Exception('Non-supported activation function')\n",
    "        \n",
    "    return activation_func(Z_curr), Z_curr\n",
    "\n",
    "#Build the full-layer forward propagation\n",
    "def full_forward_propagation(X, params_values, nn_architecture):\n",
    "    memory = {}\n",
    "    A_curr = X\n",
    "    \n",
    "    for idx, layer in enumerate(nn_architecture):\n",
    "        layer_idx = idx + 1\n",
    "        A_prev = A_curr\n",
    "        \n",
    "        activ_function_curr = layer[\"activation\"]\n",
    "        W_curr = params_values[\"W\" + str(layer_idx)]\n",
    "        b_curr = params_values[\"b\" + str(layer_idx)]\n",
    "        A_curr, Z_curr = single_layer_forward_propagation(A_prev, W_curr, b_curr, activ_function_curr)\n",
    "        \n",
    "        memory[\"A\" + str(idx)] = A_prev\n",
    "        memory[\"Z\" + str(layer_idx)] = Z_curr\n",
    "       \n",
    "    return A_curr, memory\n",
    "\n",
    "#Difine loss functions\n",
    "def get_cost_value(Y_hat, Y):\n",
    "    m = Y_hat.shape[1]\n",
    "    cost = -1 / m * (np.dot(Y, np.log(Y_hat).T) + np.dot(1 - Y, np.log(1 - Y_hat).T))\n",
    "    return np.squeeze(cost)\n",
    "\n",
    "# an auxiliary function that converts probability into class\n",
    "def convert_prob_into_class(probs):\n",
    "    probs_ = np.copy(probs)\n",
    "    probs_[probs_ > 0.5] = 1\n",
    "    probs_[probs_ <= 0.5] = 0\n",
    "    return probs_\n",
    "\n",
    "def get_accuracy_value(Y_hat, Y):\n",
    "    Y_hat_ = convert_prob_into_class(Y_hat)\n",
    "    return (Y_hat_ == Y).all(axis=0).mean()\n",
    "\n",
    "#Build the single-layer backward propagation\n",
    "def single_layer_backward_propagation(dA_curr, W_curr, b_curr, Z_curr, A_prev, activation=\"relu\"):\n",
    "    m = A_prev.shape[1]\n",
    "    \n",
    "    if activation == \"relu\":\n",
    "        backward_activation_func = relu_backward\n",
    "    elif activation == \"sigmoid\":\n",
    "        backward_activation_func = sigmoid_backward\n",
    "    else:\n",
    "        raise Exception('Non-supported activation function')\n",
    "    \n",
    "    dZ_curr = backward_activation_func(dA_curr, Z_curr)\n",
    "    dW_curr = np.dot(dZ_curr, A_prev.T) / m\n",
    "    db_curr = np.sum(dZ_curr, axis=1, keepdims=True) / m\n",
    "    dA_prev = np.dot(W_curr.T, dZ_curr)\n",
    "\n",
    "    return dA_prev, dW_curr, db_curr\n",
    "\n",
    "#Build the full-layer backward propagation\n",
    "def full_backward_propagation(Y_hat, Y, memory, params_values, nn_architecture):\n",
    "    grads_values = {}\n",
    "    m = Y.shape[1]\n",
    "    \n",
    "    Y_hat = np.argmax(Y_hat,axis=0)\n",
    "    Y_hat = Y_hat.reshape((1,Y_hat.shape[0]))\n",
    "    \n",
    "    dA_prev = - (np.divide(Y, Y_hat) - np.divide(1 - Y, 1 - Y_hat));\n",
    "    \n",
    "    for layer_idx_prev, layer in reversed(list(enumerate(nn_architecture))):\n",
    "        layer_idx_curr = layer_idx_prev + 1\n",
    "        activ_function_curr = layer[\"activation\"]\n",
    "        \n",
    "        dA_curr = dA_prev\n",
    "        \n",
    "        A_prev = memory[\"A\" + str(layer_idx_prev)]\n",
    "        Z_curr = memory[\"Z\" + str(layer_idx_curr)]\n",
    "        W_curr = params_values[\"W\" + str(layer_idx_curr)]\n",
    "        b_curr = params_values[\"b\" + str(layer_idx_curr)]\n",
    "        \n",
    "        dA_prev, dW_curr, db_curr = single_layer_backward_propagation(\n",
    "            dA_curr, W_curr, b_curr, Z_curr, A_prev, activ_function_curr)\n",
    "        \n",
    "        grads_values[\"dW\" + str(layer_idx_curr)] = dW_curr\n",
    "        grads_values[\"db\" + str(layer_idx_curr)] = db_curr\n",
    "    \n",
    "    return grads_values\n",
    "\n",
    "#Update the parameters\n",
    "def update(params_values, grads_values, nn_architecture, learning_rate):\n",
    "    for layer_idx, layer in enumerate(nn_architecture, 1):\n",
    "        params_values[\"W\" + str(layer_idx)] -= learning_rate * grads_values[\"dW\" + str(layer_idx)]        \n",
    "        params_values[\"b\" + str(layer_idx)] -= learning_rate * grads_values[\"db\" + str(layer_idx)]\n",
    "\n",
    "    return params_values\n",
    "\n",
    "#Train the model\n",
    "def train(X, Y, nn_architecture, epochs, learning_rate):\n",
    "    params_values = init_layers(nn_architecture, 2)\n",
    "    cost_history = []\n",
    "    accuracy_history = []\n",
    "    \n",
    "    for i in range(epochs):\n",
    "        Y_hat, cashe = full_forward_propagation(X, params_values, nn_architecture)\n",
    "        cost = get_cost_value(Y_hat, Y)\n",
    "        cost[np.isnan(cost)] = 0\n",
    "        cost[np.isinf(cost)] = 0\n",
    "        cost = np.mean(cost)\n",
    "        # cost = np.sum(cost**2)\n",
    "        # print(cost)\n",
    "\n",
    "        cost_history.append(cost)\n",
    "        accuracy = get_accuracy_value(Y_hat, Y)\n",
    "        accuracy_history.append(accuracy)\n",
    "        \n",
    "        grads_values = full_backward_propagation(Y_hat, Y, cashe, params_values, nn_architecture)\n",
    "        params_values = update(params_values, grads_values, nn_architecture, learning_rate)\n",
    "\n",
    "        if i % 50 == 0:\n",
    "            print(\"Epochs: {} - cost: {:.4f} - accuracy: {:.4f}\".format(i, cost, accuracy))\n",
    "        \n",
    "    return params_values, cost_history, accuracy_history"
   ]
  },
  {
   "attachments": {},
   "cell_type": "markdown",
   "metadata": {},
   "source": [
    "## One Layer Perception"
   ]
  },
  {
   "cell_type": "code",
   "execution_count": 93,
   "metadata": {},
   "outputs": [
    {
     "name": "stderr",
     "output_type": "stream",
     "text": [
      "/tmp/ipykernel_761411/3562061464.py:70: RuntimeWarning: divide by zero encountered in log\n",
      "  cost = -1 / m * (np.dot(Y, np.log(Y_hat).T) + np.dot(1 - Y, np.log(1 - Y_hat).T))\n",
      "/tmp/ipykernel_761411/3562061464.py:110: RuntimeWarning: divide by zero encountered in divide\n",
      "  dA_prev = - (np.divide(Y, Y_hat) - np.divide(1 - Y, 1 - Y_hat));\n",
      "/tmp/ipykernel_761411/3562061464.py:110: RuntimeWarning: invalid value encountered in divide\n",
      "  dA_prev = - (np.divide(Y, Y_hat) - np.divide(1 - Y, 1 - Y_hat));\n"
     ]
    },
    {
     "name": "stdout",
     "output_type": "stream",
     "text": [
      "Epochs: 0 - cost: 64.7483 - accuracy: 0.0000\n",
      "Epochs: 200 - cost: 0.0000 - accuracy: 0.0000\n"
     ]
    },
    {
     "data": {
      "image/png": "[encoded data removed]",
      "text/plain": [
       "<Figure size 640x480 with 1 Axes>"
      ]
     },
     "metadata": {},
     "output_type": "display_data"
    },
    {
     "data": {
      "image/png": "[encoded data removed]",
      "text/plain": [
       "<Figure size 640x480 with 1 Axes>"
      ]
     },
     "metadata": {},
     "output_type": "display_data"
    }
   ],
   "source": [
    "NN_ARCHITECTURE = [\n",
    "    {\"input_dim\": 2048, \"output_dim\": 50, \"activation\": \"sigmoid\"},\n",
    "]\n",
    "Epochs = 400\n",
    "Learning_rate = 0.001\n",
    "\n",
    "# Training\n",
    "params_values, cost_history, accuracy_history = train(\n",
    "    np.transpose(train_features), \n",
    "    np.transpose(train_labels.reshape((train_labels.shape[0], 1))),\n",
    "    NN_ARCHITECTURE, Epochs, Learning_rate)\n",
    "\n",
    "# Plot the cost and accuracy\n",
    "plt.plot(range(1,Epochs+1),np.array(cost_history), label='Training Loss')\n",
    "plt.ylabel('cost')\n",
    "plt.xlabel('epochs')\n",
    "plt.title(\"Learning rate =\" + str(Learning_rate))\n",
    "plt.show()\n",
    "\n",
    "plt.plot(range(1,Epochs+1),accuracy_history, label='Training Accuracy')\n",
    "plt.ylabel('accuracy')\n",
    "plt.xlabel('epochs (per hundreds)')\n",
    "plt.title(\"Learning rate =\" + str(Learning_rate))\n",
    "plt.show()\n"
   ]
  },
  {
   "attachments": {},
   "cell_type": "markdown",
   "metadata": {},
   "source": [
    "## Two Layer Perception"
   ]
  },
  {
   "cell_type": "code",
   "execution_count": 96,
   "metadata": {},
   "outputs": [
    {
     "name": "stdout",
     "output_type": "stream",
     "text": [
      "Epochs: 0 - cost: -5.2798 - accuracy: 0.0000\n",
      "Epochs: 50 - cost: 37.5059 - accuracy: 0.0000\n"
     ]
    },
    {
     "name": "stderr",
     "output_type": "stream",
     "text": [
      "/tmp/ipykernel_761411/671457796.py:110: RuntimeWarning: divide by zero encountered in divide\n",
      "  dA_prev = - (np.divide(Y, Y_hat) - np.divide(1 - Y, 1 - Y_hat));\n",
      "/tmp/ipykernel_761411/671457796.py:110: RuntimeWarning: invalid value encountered in divide\n",
      "  dA_prev = - (np.divide(Y, Y_hat) - np.divide(1 - Y, 1 - Y_hat));\n"
     ]
    },
    {
     "name": "stdout",
     "output_type": "stream",
     "text": [
      "Epochs: 100 - cost: 0.0000 - accuracy: 0.0000\n",
      "Epochs: 150 - cost: 0.0000 - accuracy: 0.0000\n",
      "Epochs: 200 - cost: 0.0000 - accuracy: 0.0000\n",
      "Epochs: 250 - cost: 0.0000 - accuracy: 0.0000\n",
      "Epochs: 300 - cost: 0.0000 - accuracy: 0.0000\n",
      "Epochs: 350 - cost: 0.0000 - accuracy: 0.0000\n"
     ]
    },
    {
     "data": {
      "image/png": "[encoded data removed]",
      "text/plain": [
       "<Figure size 640x480 with 1 Axes>"
      ]
     },
     "metadata": {},
     "output_type": "display_data"
    },
    {
     "data": {
      "image/png": "[encoded data removed]",
      "text/plain": [
       "<Figure size 640x480 with 1 Axes>"
      ]
     },
     "metadata": {},
     "output_type": "display_data"
    }
   ],
   "source": [
    "NN_ARCHITECTURE = [\n",
    "    {\"input_dim\": 2048, \"output_dim\": 1024, \"activation\": \"sigmoid\"},\n",
    "    {\"input_dim\": 1024, \"output_dim\": 50, \"activation\": \"sigmoid\"},\n",
    "]\n",
    "Epochs = 400\n",
    "Learning_rate = 0.01\n",
    "\n",
    "# Training\n",
    "params_values, cost_history, accuracy_history = train(\n",
    "    np.transpose(train_features), \n",
    "    np.transpose(train_labels.reshape((train_labels.shape[0], 1))),\n",
    "    NN_ARCHITECTURE, Epochs, Learning_rate)\n",
    "\n",
    "# Plot the cost and accuracy\n",
    "plt.plot(range(1,Epochs+1),np.array(cost_history), label='Training Loss')\n",
    "plt.ylabel('cost')\n",
    "plt.xlabel('epochs')\n",
    "plt.title(\"Learning rate =\" + str(Learning_rate))\n",
    "plt.show()\n",
    "\n",
    "plt.plot(range(1,Epochs+1),accuracy_history, label='Training Accuracy')\n",
    "plt.ylabel('accuracy')\n",
    "plt.xlabel('epochs (per hundreds)')\n",
    "plt.title(\"Learning rate =\" + str(Learning_rate))\n",
    "plt.show()"
   ]
  },
  {
   "attachments": {},
   "cell_type": "markdown",
   "metadata": {},
   "source": [
    "## LeNet5"
   ]
  },
  {
   "attachments": {},
   "cell_type": "markdown",
   "metadata": {},
   "source": [
    "![image.png](attachment:cb574f9a-24f1-4715-a236-cf9fc004094b.png)"
   ]
  },
  {
   "cell_type": "code",
   "execution_count": null,
   "metadata": {},
   "outputs": [],
   "source": []
  },
  {
   "cell_type": "code",
   "execution_count": null,
   "metadata": {},
   "outputs": [],
   "source": []
  },
  {
   "attachments": {},
   "cell_type": "markdown",
   "metadata": {},
   "source": [
    "## Improved LeNet5"
   ]
  },
  {
   "attachments": {},
   "cell_type": "markdown",
   "metadata": {},
   "source": [
    "* Activation function: x = Sigmoid(x) ==> x = x*sigmoid(x)\n",
    "* Kernel size: 5x5 ==> 3x3\n",
    "* Increase one convolution layer to LeNet5 (any position)."
   ]
  }
 ],
 "metadata": {
  "kernelspec": {
   "display_name": "DL",
   "language": "python",
   "name": "python3"
  },
  "language_info": {
   "codemirror_mode": {
    "name": "ipython",
    "version": 3
   },
   "file_extension": ".py",
   "mimetype": "text/x-python",
   "name": "python",
   "nbconvert_exporter": "python",
   "pygments_lexer": "ipython3",
   "version": "3.8.0"
  },
  "orig_nbformat": 4
 },
 "nbformat": 4,
 "nbformat_minor": 2
}
